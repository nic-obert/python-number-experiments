{
 "cells": [
  {
   "cell_type": "code",
   "execution_count": 1,
   "metadata": {},
   "outputs": [
    {
     "name": "stdout",
     "output_type": "stream",
     "text": [
      "2147483648\n"
     ]
    }
   ],
   "source": [
    "# Is it a 32-byte signed integer (C int)?\n",
    "n = 2 ** 31 - 1 + 1 # 2147483648\n",
    "\n",
    "# Is it a 64-byte signed integer (C long)?\n",
    "n = 2 ** 63 - 1 + 1 # 9223372036854775808\n",
    "\n",
    "# Is it a 128-byte signed integer (GCC __int128_t)?\n",
    "n = 2 ** 127 - 1 + 1 # 170141183460469231731687303715884105728\n"
   ]
  },
  {
   "cell_type": "code",
   "execution_count": 7,
   "metadata": {},
   "outputs": [
    {
     "name": "stdout",
     "output_type": "stream",
     "text": [
      "4000000\n"
     ]
    },
    {
     "ename": "ValueError",
     "evalue": "Exceeds the limit (4300 digits) for integer string conversion: value has 4000000 digits; use sys.set_int_max_str_digits() to increase the limit",
     "output_type": "error",
     "traceback": [
      "\u001b[0;31m---------------------------------------------------------------------------\u001b[0m",
      "\u001b[0;31mValueError\u001b[0m                                Traceback (most recent call last)",
      "Cell \u001b[0;32mIn[7], line 4\u001b[0m\n\u001b[1;32m      1\u001b[0m s \u001b[38;5;241m=\u001b[39m \u001b[38;5;124m'\u001b[39m\u001b[38;5;124m1\u001b[39m\u001b[38;5;124m'\u001b[39m\u001b[38;5;241m*\u001b[39m\u001b[38;5;241m4_000_000\u001b[39m \u001b[38;5;66;03m# 4 million digits\u001b[39;00m\n\u001b[1;32m      2\u001b[0m \u001b[38;5;28mprint\u001b[39m(\u001b[38;5;28mlen\u001b[39m(s))\n\u001b[0;32m----> 4\u001b[0m n \u001b[38;5;241m=\u001b[39m \u001b[38;5;28;43mint\u001b[39;49m\u001b[43m(\u001b[49m\u001b[43ms\u001b[49m\u001b[43m)\u001b[49m\n\u001b[1;32m      6\u001b[0m \u001b[38;5;66;03m# ValueError: Exceeds the limit (4300 digits) for integer string conversion: value has 4000000 digits; use sys.set_int_max_str_digits() to increase the limit\u001b[39;00m\n",
      "\u001b[0;31mValueError\u001b[0m: Exceeds the limit (4300 digits) for integer string conversion: value has 4000000 digits; use sys.set_int_max_str_digits() to increase the limit"
     ]
    }
   ],
   "source": [
    "s = '1'*4_000_000 # 4 million digits\n",
    "print(len(s))\n",
    "\n",
    "n = int(s)\n",
    "\n",
    "# ValueError: Exceeds the limit (4300 digits) for integer string conversion: value has 4000000 digits; use sys.set_int_max_str_digits() to increase the limit"
   ]
  },
  {
   "cell_type": "code",
   "execution_count": 9,
   "metadata": {},
   "outputs": [
    {
     "name": "stdout",
     "output_type": "stream",
     "text": [
      "4000000\n"
     ]
    }
   ],
   "source": [
    "import sys\n",
    "\n",
    "sys.set_int_max_str_digits(4000001)\n",
    "\n",
    "string_number = '1'*4_000_000\n",
    "\n",
    "number = int(string_number)"
   ]
  },
  {
   "cell_type": "code",
   "execution_count": 6,
   "metadata": {},
   "outputs": [],
   "source": [
    "with open('large_number.py', 'w') as f:\n",
    "    n = '5232'*1000000 # 4 million digits\n",
    "    f.write(f'n = {n}\\nprint(n)\\nn += 89\\nprint(n)')\n",
    "\n",
    "# When creating numeric literal\n",
    "# SyntaxError: Exceeds the limit (4300 digits) for integer string conversion: value has 4000000 digits; use sys.set_int_max_str_digits() to increase the limit - Consider hexadecimal for huge integer literals to avoid decimal conversion limits."
   ]
  },
  {
   "cell_type": "code",
   "execution_count": 5,
   "metadata": {},
   "outputs": [],
   "source": [
    "\n",
    "with open('large_number.py', 'w') as f:\n",
    "    hex_n = hex(10**1000000) # 4 million decimal digits\n",
    "    f.write(f'n = {hex_n}\\nprint(n)\\nn += 89\\nprint(n)')\n",
    "\n",
    "# When printing to the console (number must be converted to a string first)\n",
    "# ValueError: Exceeds the limit (4300 digits) for integer string conversion; use sys.set_int_max_str_digits() to increase the limit"
   ]
  },
  {
   "cell_type": "code",
   "execution_count": 12,
   "metadata": {},
   "outputs": [
    {
     "name": "stdout",
     "output_type": "stream",
     "text": [
      "4000000.0\n"
     ]
    }
   ],
   "source": [
    "n = 10**4_000_000\n",
    "import math\n",
    "print(math.log10(n)) "
   ]
  },
  {
   "cell_type": "code",
   "execution_count": 43,
   "metadata": {},
   "outputs": [
    {
     "ename": "OverflowError",
     "evalue": "(34, 'Numerical result out of range')",
     "output_type": "error",
     "traceback": [
      "\u001b[0;31m---------------------------------------------------------------------------\u001b[0m",
      "\u001b[0;31mOverflowError\u001b[0m                             Traceback (most recent call last)",
      "Cell \u001b[0;32mIn[43], line 1\u001b[0m\n\u001b[0;32m----> 1\u001b[0m f \u001b[38;5;241m=\u001b[39m \u001b[38;5;241;43m10.0\u001b[39;49m\u001b[38;5;241;43m*\u001b[39;49m\u001b[38;5;241;43m*\u001b[39;49m\u001b[38;5;241;43m1000000\u001b[39;49m\n",
      "\u001b[0;31mOverflowError\u001b[0m: (34, 'Numerical result out of range')"
     ]
    }
   ],
   "source": [
    "f = 10.0**1000000\n",
    "\n",
    "# OverflowError: (34, 'Numerical result out of range')"
   ]
  },
  {
   "cell_type": "code",
   "execution_count": 20,
   "metadata": {},
   "outputs": [
    {
     "ename": "OverflowError",
     "evalue": "int too large to convert to float",
     "output_type": "error",
     "traceback": [
      "\u001b[0;31m---------------------------------------------------------------------------\u001b[0m",
      "\u001b[0;31mOverflowError\u001b[0m                             Traceback (most recent call last)",
      "Cell \u001b[0;32mIn[20], line 4\u001b[0m\n\u001b[1;32m      1\u001b[0m \u001b[38;5;66;03m# Conversion from int to float fails\u001b[39;00m\n\u001b[1;32m      2\u001b[0m \u001b[38;5;66;03m# OverflowError: int too large to convert to float\u001b[39;00m\n\u001b[1;32m      3\u001b[0m n \u001b[38;5;241m=\u001b[39m \u001b[38;5;241m10\u001b[39m\u001b[38;5;241m*\u001b[39m\u001b[38;5;241m*\u001b[39m\u001b[38;5;241m1000000\u001b[39m\n\u001b[0;32m----> 4\u001b[0m f \u001b[38;5;241m=\u001b[39m \u001b[38;5;28;43mfloat\u001b[39;49m\u001b[43m(\u001b[49m\u001b[43mn\u001b[49m\u001b[43m)\u001b[49m\n",
      "\u001b[0;31mOverflowError\u001b[0m: int too large to convert to float"
     ]
    }
   ],
   "source": [
    "# Conversion from int to float fails\n",
    "# OverflowError: int too large to convert to float\n",
    "n = 10**1000000\n",
    "f = float(n)"
   ]
  },
  {
   "cell_type": "code",
   "execution_count": 23,
   "metadata": {},
   "outputs": [
    {
     "name": "stdout",
     "output_type": "stream",
     "text": [
      "number of digits of float: 2000000.0\n",
      "number of digits of int: 2000000.0\n"
     ]
    }
   ],
   "source": [
    "# Conversion from float to int works instead\n",
    "\n",
    "f = 10**1000000\n",
    "f += 89\n",
    "f *= 10**1000000\n",
    "n = int(f)\n",
    "\n",
    "print(f'number of digits of float: {math.log10(f)}')\n",
    "print(f'number of digits of int: {math.log10(n)}')"
   ]
  },
  {
   "cell_type": "code",
   "execution_count": 34,
   "metadata": {},
   "outputs": [
    {
     "name": "stdout",
     "output_type": "stream",
     "text": [
      "f  = 0.1111111111111111, precision = 16\n",
      "f2 = 0.1111111111111111, precision = 16\n"
     ]
    }
   ],
   "source": [
    "# Float precision is limited to 16 decimal digits\n",
    "# Float objects are a Python object wrapper around a C double value (floatobject.c)\n",
    "\n",
    "f = float('0.' + '1'*16)\n",
    "print(f'f  = {f}, precision = {len(str(f)) - 2}')\n",
    "\n",
    "# Trying to create a float with more than 16 decimal digits is useless\n",
    "f2 = float('0.' + '1'*17)\n",
    "print(f'f2 = {f2}, precision = {len(str(f2)) - 2}')"
   ]
  },
  {
   "cell_type": "code",
   "execution_count": 57,
   "metadata": {},
   "outputs": [
    {
     "name": "stdout",
     "output_type": "stream",
     "text": [
      "time to create a and b: 81.5890781879425\n",
      "time to add a and b: 0.004576206207275391\n",
      "number of digits of a: 25639049\n",
      "number of digits of b: 25882242\n",
      "number of digits of c: 25882242\n",
      "time to count digits: 0.0002224445343017578\n"
     ]
    }
   ],
   "source": [
    "# Test the limits of ints\n",
    "# Very slow to create large integers, but operations are not terribly affected\n",
    "# functions like math.log10() seem to be almost constant time, very little time increase with the size of the number\n",
    "\n",
    "import math\n",
    "import time\n",
    "\n",
    "def digits(n):\n",
    "    return math.floor(math.log10(n)) + 1\n",
    "\n",
    "start = time.time()\n",
    "a = 19**20_050_030\n",
    "b = 15**22_007_001\n",
    "end = time.time()\n",
    "print(f'time to create a and b: {end - start}') # increases with the size of the numbers\n",
    "\n",
    "start = time.time()\n",
    "c = a + b\n",
    "end = time.time()\n",
    "print(f'time to add a and b: {end - start}') # increases with the size of the numbers\n",
    "\n",
    "start = time.time()\n",
    "print(f'number of digits of a: {digits(a)}')\n",
    "print(f'number of digits of b: {digits(b)}')\n",
    "print(f'number of digits of c: {digits(c)}')\n",
    "end = time.time()\n",
    "print(f'time to count digits: {end - start}') # Seems to be constant\n",
    "\n",
    "'''\n",
    "time to create a and b: 1.5945377349853516\n",
    "time to add a and b: 0.0003998279571533203\n",
    "number of digits of a: 2000001\n",
    "number of digits of b: 2352184\n",
    "number of digits of c: 2352184\n",
    "time to count digits: 0.00012874603271484375\n",
    "\n",
    "time to create a and b: 3.0173802375793457\n",
    "time to add a and b: 0.0005426406860351562\n",
    "number of digits of a: 3000001\n",
    "number of digits of b: 3528275\n",
    "number of digits of c: 3528275\n",
    "time to count digits: 0.0001590251922607422\n",
    "\n",
    "time to create a and b: 6.736712455749512\n",
    "time to add a and b: 0.0008037090301513672\n",
    "number of digits of a: 5000001\n",
    "number of digits of b: 5880458\n",
    "number of digits of c: 5880458\n",
    "time to count digits: 0.0001277923583984375\n",
    "\n",
    "time to create a and b: 16.355926513671875\n",
    "time to add a and b: 0.0018377304077148438\n",
    "number of digits of a: 9000001\n",
    "number of digits of b: 10584823\n",
    "number of digits of c: 10584823\n",
    "time to count digits: 0.00011372566223144531\n",
    "\n",
    "time to create a and b: 77.3946623802185\n",
    "time to add a and b: 0.005924224853515625\n",
    "number of digits of a: 25639049\n",
    "number of digits of b: 25882242\n",
    "number of digits of c: 25882242\n",
    "time to count digits: 0.0002410411834716797\n",
    "\n",
    "(two steps to create a number: a = 19;a**=e)\n",
    "time to create a and b: 81.5890781879425\n",
    "time to add a and b: 0.004576206207275391\n",
    "number of digits of a: 25639049\n",
    "number of digits of b: 25882242\n",
    "number of digits of c: 25882242\n",
    "time to count digits: 0.0002224445343017578\n",
    "\n",
    "'''"
   ]
  },
  {
   "cell_type": "code",
   "execution_count": 59,
   "metadata": {},
   "outputs": [
    {
     "name": "stdout",
     "output_type": "stream",
     "text": [
      "time to multiply n: 2404.6816606521606\n",
      "number of digits of n: 101000001\n",
      "time to count digits: 5.412101745605469e-05\n"
     ]
    }
   ],
   "source": [
    "# create a large number\n",
    "\n",
    "import math\n",
    "import time\n",
    "\n",
    "def digits(n):\n",
    "    return math.floor(math.log10(n)) + 1\n",
    "\n",
    "\n",
    "n = 10**1000000\n",
    "m = 10**1000000\n",
    "\n",
    "start = time.time()\n",
    "for _ in range(100):\n",
    "    n *= m\n",
    "end = time.time()\n",
    "print(f'time to multiply n: {end - start}')\n",
    "\n",
    "start = time.time()\n",
    "print(f'number of digits of n: {digits(n)}')\n",
    "end = time.time()\n",
    "print(f'time to count digits: {end - start}')\n",
    "\n",
    "'''\n",
    "time to multiply n: 2404.6816606521606\n",
    "number of digits of n: 101000001 (~ 1 hundred million digits)\n",
    "time to count digits: 5.412101745605469e-05\n",
    "'''"
   ]
  }
 ],
 "metadata": {
  "kernelspec": {
   "display_name": "Python 3",
   "language": "python",
   "name": "python3"
  },
  "language_info": {
   "codemirror_mode": {
    "name": "ipython",
    "version": 3
   },
   "file_extension": ".py",
   "mimetype": "text/x-python",
   "name": "python",
   "nbconvert_exporter": "python",
   "pygments_lexer": "ipython3",
   "version": "3.11.6"
  }
 },
 "nbformat": 4,
 "nbformat_minor": 2
}
